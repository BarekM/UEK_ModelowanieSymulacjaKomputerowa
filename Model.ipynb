{
 "cells": [
  {
   "cell_type": "markdown",
   "metadata": {},
   "source": [
    "### <font color='red'>Mozna uwzglednic kilka releasow applikacji w ciagu roku</font>"
   ]
  },
  {
   "cell_type": "markdown",
   "metadata": {},
   "source": [
    "### Total revenue\n",
    "\n",
    "$R_{t+1} : f(R_{add (t)},R_{pr (t)},C_{(t)}) + \\mu(N)$\n",
    "\n",
    "$R_{t+1}$ - total revenue\n",
    "\n",
    "$R_{add (t)}$ - revenue from adds\n",
    "\n",
    "$R_{pr (t)}$ - revenue from premium accounts\n",
    "\n",
    "$C_{(t)}$ - Costs\n",
    "\n",
    "$\\mu(N)$ - model of uncertainty\n",
    "\n",
    "To determine target function we will use following mathematic model:\n",
    "\n",
    "$x_{t+1} = x_t + \\delta x_{t,t+1}$\n",
    "\n",
    "$\\delta x_{t,t+1} = Px_{t,t+1} - Lx_{t,t+1}$ - profit(income) minus loss\n",
    "\n",
    "$R_{t+1} = R_t + PR_{t,t+1} - LR_{t,t+1}$, where \n",
    "\n",
    "$PR_{t,t+1} = R_{add (t+1)} + R_{pr (t+1)}$ - total revenue income from moment $t$ to moment $t+1$\n",
    "\n",
    "$LR_{t,t+1} = C_{(t+1)}$ - total revenue loss from moment $t$ to moment $t+1$\n"
   ]
  },
  {
   "cell_type": "markdown",
   "metadata": {},
   "source": [
    "### Revenue from premium accounts\n",
    "\n",
    "$R_{pr (t+1)} = R_{pr (t)} + PR_{pr (t,t+1)}$, where\n",
    "\n",
    "$R_{pr (t+1)}$ - revenue from premium accounts at moment $t+1$\n",
    "\n",
    "$PR_{pr (t,t+1)}$ - revenue income from moment $t$ to $t+1$\n",
    "\n",
    "$PR_{pr (t,t+1)} = Pr_p * P_p * U_{c (t+1)} $ , where:\n",
    "\n",
    "$Pr_p$ - price of premium per month [USD]\n",
    "\n",
    "$P_p = N(\\mu,\\sigma^2)$ - percent of premium users [%] is defined by some normal distribution with $\\sigma^2=$ and $\\mu=$\n",
    "\n",
    "$U_{c (t+1)}$ - total users count in a given month [-]\n"
   ]
  },
  {
   "cell_type": "markdown",
   "metadata": {},
   "source": [
    "### User count\n",
    "\n",
    "$U_{c (t+1)} = U_{c (t)} + PU_{c (t,t+1)} - LU_{c (t,t+1)}$ , where:\n",
    "\n",
    "$U_{c (t+1)}$ - users count at moment $t+1$\n",
    "\n",
    "$PU_{c (t,t+1)} = U_{n (t+1)}$ - user income from moment $t$ to $t+1$\n",
    "\n",
    "$LU_{c (t,t+1)} = U_{c (t)} * a_u$ - user loss from moment $t$ to $t+1$\n",
    "\n",
    "In other words:\n",
    "\n",
    "$U_{c (t+1)} = U_{c (t)} + U_{n (t+1)} - U_{c (t)} * a_u$ , where:\n",
    "\n",
    "$U_{c (t+1)}$ - count of users in given month\n",
    "\n",
    "$U_{c (t)}$ - count of users in previous month\n",
    "\n",
    "$a_u = N(\\mu,\\sigma^2)$ - user attrition, which is defined by some normal distribution with $\\sigma^2=$ and $\\mu=$\n",
    "\n",
    "$U_{n (t+1)}$ - new users in given month (*it depends on marketing*)\n"
   ]
  },
  {
   "cell_type": "markdown",
   "metadata": {},
   "source": [
    "### Revenue from adds\n",
    "\n",
    "$R_{CPM}$ - revenue from add views\n",
    "\n",
    "$R_{CPC}$ - revenue from add clicks\n",
    "\n",
    "//$R_{CPA}$ - revenue from actions taken //e.g. purchasing an app from add, buying product. CPC excludes using CPA\n",
    "\n",
    "// those costs vary throughout the year. Usually costs go up during periods of intense add campaigns (i.e. Christmas)\n",
    "\n",
    "$R_{add} = R_{CPM} + R_{CPC} + //R_{CPA}$\n",
    "***\n",
    "#### CPM\n",
    "\n",
    "$C_s$ - count of sessions per month [k]\n",
    "\n",
    "$min_s$ - avg. minutes used spend per session [min]\n",
    "\n",
    "$add_m$ - adds impressions per minute [-/min]\n",
    "\n",
    "$F_r$ - fill rate [%] - how many add requests receive add from our add source\n",
    "\n",
    "$CPM$ - cost per 1k impressions [USD/1k] // iOS ~5 USD; Android ~2 USD\n",
    "\n",
    "$R_{CPM} = C_s / 1000 * min_s * add_m * F_r * CPM$\n",
    "***\n",
    "#### CPC\n",
    "\n",
    "$CTR$ - click through rate [%] // avg. 0,46 %\n",
    "\n",
    "$CPC$ - cost per click [USD] //avg. 0,6 USD\n",
    "\n",
    "$R_{CPC} = C_s * CTR * CPC$\n",
    "\n",
    "***\n",
    "#### CPA\n",
    "\n",
    "$CPA$ - cost per action [USD] // Cost varies 4 USD - 75 USD\n",
    "\n",
    "$CVR$ - conversion rate [%] - how many clicks resulted in action\n",
    "\n",
    "$R_{CPA} = CPA * C_s * CTR * CVR$"
   ]
  },
  {
   "cell_type": "markdown",
   "metadata": {},
   "source": [
    "### Costs calculation\n",
    "\n",
    "utrzymanie aplikacji\n",
    "\n",
    "    support\n",
    "    \n",
    "    infra\n",
    "    \n",
    "marketing\n",
    "\n",
    "    inicjalny\n",
    "    \n",
    "    ongoing\n",
    "    \n",
    "pensje pracownikow\n",
    "\n",
    "inwestor\n",
    "\n",
    "design\n",
    "\n",
    "oplata do sklepu"
   ]
  }
 ],
 "metadata": {
  "kernelspec": {
   "display_name": "Python 3",
   "language": "python",
   "name": "python3"
  },
  "language_info": {
   "codemirror_mode": {
    "name": "ipython",
    "version": 3
   },
   "file_extension": ".py",
   "mimetype": "text/x-python",
   "name": "python",
   "nbconvert_exporter": "python",
   "pygments_lexer": "ipython3",
   "version": "3.6.8"
  }
 },
 "nbformat": 4,
 "nbformat_minor": 2
}
