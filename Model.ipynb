{
 "cells": [
  {
   "cell_type": "markdown",
   "metadata": {},
   "source": [
    "### <font color='red'>Mozna uwzglednic kilka releasow applikacji w ciagu roku</font>"
   ]
  },
  {
   "cell_type": "markdown",
   "metadata": {},
   "source": [
    "### Total revenue\n",
    "$R$ - total revenue\n",
    "\n",
    "$R_{add}$ - revenue from adds\n",
    "\n",
    "$R_{pr}$ - revenue from premium accounts\n",
    "\n",
    "$C$ - Costs\n",
    "\n",
    "$R = R_{add} + R_{pr} - C$\n"
   ]
  },
  {
   "cell_type": "markdown",
   "metadata": {},
   "source": [
    "### Revenue from premium accounts\n",
    "\n",
    "$U_c$ - users count in a given month [-]\n",
    "\n",
    "$P_p$ - percent of premium users [%]\n",
    "\n",
    "$Pr_p$ - price of premium per month [USD]\n",
    "\n",
    "$R_{pr} = U_c * P_p * Pr_p$\n"
   ]
  },
  {
   "cell_type": "markdown",
   "metadata": {},
   "source": [
    "### User count\n",
    "\n",
    "$U_c$ - count of users in given month\n",
    "\n",
    "$U_{c (t-1)}$ - count of users in previous month\n",
    "\n",
    "$e_u$ - user retention rate [0 - 1]\n",
    "\n",
    "$U_n$ - new users in given month\n",
    "\n",
    "$U_c = U_{c (t-1)} * e_u + U_n$\n"
   ]
  },
  {
   "cell_type": "markdown",
   "metadata": {},
   "source": [
    "### Revenue from adds\n",
    "\n",
    "R_{CPM} - revenue from add views\n",
    "\n",
    "R_{CPC} - revenue from add clicks\n",
    "\n",
    "//R_{CPA} - revenue from actions taken //e.g. purchasing an app from add, buying product. CPC excludes using CPA\n",
    "\n",
    "// those costs vary throughout the year. Usually costs go up during periods of intense add campaigns (i.e. Christmas)\n",
    "\n",
    "$R_{add} = R_{CPM} + R_{CPC} + //R_{CPA}$\n",
    "***\n",
    "#### CPM\n",
    "\n",
    "$C_s$ - count of sessions per month [k]\n",
    "\n",
    "$min_s$ - avg. minutes used spend per session [min]\n",
    "\n",
    "$add_m$ - adds impressions per minute [-/min]\n",
    "\n",
    "$F_r$ - fill rate [%] - how many add requests receive add from our add source\n",
    "\n",
    "$CPM$ - cost per 1k impressions [USD/1k] // iOS ~5 USD; Android ~2 USD\n",
    "\n",
    "$R_{CPM} = C_s / 1000 * min_s * add_m * F_r * CPM$\n",
    "***\n",
    "#### CPC\n",
    "\n",
    "$CTR$ - click through rate [%] // avg. 0,46 %\n",
    "\n",
    "$CPC$ - cost per click [USD] //avg. 0,6 USD\n",
    "\n",
    "$R_{CPC} = C_s * CTR * CPC$\n",
    "\n",
    "***\n",
    "#### CPA\n",
    "\n",
    "$CPA$ - cost per action [USD] // Cost varies 4 USD - 75 USD\n",
    "\n",
    "$CVR$ - conversion rate [%] - how many clicks resulted in action\n",
    "\n",
    "$R_{CPA} = CPA * C_s * CTR * CVR$"
   ]
  },
  {
   "cell_type": "markdown",
   "metadata": {},
   "source": [
    "### Costs calculation\n",
    "\n",
    "utrzymanie aplikacji\n",
    "\n",
    "    support\n",
    "    \n",
    "    infra\n",
    "    \n",
    "marketing\n",
    "\n",
    "    inicjalny\n",
    "    \n",
    "    ongoing\n",
    "    \n",
    "pensje pracownikow\n",
    "\n",
    "inwestor\n",
    "\n",
    "design\n",
    "\n",
    "oplata do sklepu"
   ]
  }
 ],
 "metadata": {
  "kernelspec": {
   "display_name": "Python 3",
   "language": "python",
   "name": "python3"
  },
  "language_info": {
   "codemirror_mode": {
    "name": "ipython",
    "version": 3
   },
   "file_extension": ".py",
   "mimetype": "text/x-python",
   "name": "python",
   "nbconvert_exporter": "python",
   "pygments_lexer": "ipython3",
   "version": "3.6.7"
  }
 },
 "nbformat": 4,
 "nbformat_minor": 2
}
