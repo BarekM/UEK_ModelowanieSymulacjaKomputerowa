{
 "cells": [
  {
   "cell_type": "markdown",
   "metadata": {},
   "source": [
    "## Step 2: Design"
   ]
  },
  {
   "cell_type": "markdown",
   "metadata": {},
   "source": [
    "In order to differentiate our applications from the competitors we have to appeal to customers views, emotions and logic by making people love our app. And loving and app doesn't come from how well it works or how it doesn;t crash but from general smooth experience and elegant design. \n",
    "\n",
    "Design is the first crucial thing that takes customers attention and retains customer. \n",
    "\n",
    "Statistics say (**source?**) that out of 100 apps downloaded from the appstore 50% gets deleted after first launch because of a poor or counterintuitive design.\n",
    "\n",
    "**What is a good design?**\n",
    "\n",
    "Good design is something that is hard to explain but we know it when we see it and we have to approach designing problem with caution since it's impact is crucial on success of the application.\n",
    "Both Apple and Google provide guidelines on what they think is a good design. \n",
    "\n",
    "Apple published a guide called *\"IOS Human Interface Guidelines\"* which describes how you should layout the app, how you should design interface and interactions so it will feel like Apple IOS experience.\n",
    "\n",
    "Google has it's own *\"Material Design Principles\"* that shows how to make the best androidy looking and feeling application.\n",
    "\n",
    "So by following either of this principles we can reduce the risk of failure due to poor design. \n",
    "\n",
    "The other variable worth taking into consideration is choosing the color palette. Here market research might come in hand. We can determine what colors do client associate with the domain of our product, be it food, business or time management app. We can take an inspiration from competitors and from what color sells better according to research.\n",
    "\n",
    "The next thing is to properly model user flow diagram, to design the interactions inside the app. Thouroughly designed user flow translates into better user experience and reduces the risk of failure due to bad design.\n",
    "\n",
    "Design is so crucial for our app that sometimes we can outsource it to professional design agancy if we are really sure that the idea worth big investments and return will cover it."
   ]
  },
  {
   "cell_type": "code",
   "execution_count": null,
   "metadata": {},
   "outputs": [],
   "source": []
  }
 ],
 "metadata": {
  "kernelspec": {
   "display_name": "Python 3",
   "language": "python",
   "name": "python3"
  },
  "language_info": {
   "codemirror_mode": {
    "name": "ipython",
    "version": 3
   },
   "file_extension": ".py",
   "mimetype": "text/x-python",
   "name": "python",
   "nbconvert_exporter": "python",
   "pygments_lexer": "ipython3",
   "version": "3.6.8"
  }
 },
 "nbformat": 4,
 "nbformat_minor": 2
}
