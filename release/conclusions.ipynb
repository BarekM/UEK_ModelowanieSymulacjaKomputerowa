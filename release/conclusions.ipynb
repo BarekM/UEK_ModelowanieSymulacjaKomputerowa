{
 "cells": [
  {
   "cell_type": "markdown",
   "metadata": {},
   "source": [
    "# Conclusions\n",
    "\n",
    "The most important observation derived from this exercise is that our revenue is strictly dependent on the amount of users using our applications. As our income model we have chosen CPM strategy. In order to maximize profit we should not only work on acquiring more users to our apps, but also on extending time they spend daily using our product. This will increase revenue from advertisements viewed by our clients.\n",
    "\n",
    "Second major observation is that profit from advertisements is highly influenced by standard deviation we have introduced to our simulations. It is due to the fact that our revenue comes from number of add views and because of big amount of these views even small change in our parameters propagates very quickly. Adding into the equation relatively high number of variables makes it difficult to predict outcome of our venture. Worst case scenario simulated by us shows that we can even expect our entrepreneurship to cause us looses in the long run and simple investment into marketing may not be enough to ensure our success. If we want to secure ourselves from potential failure, we have to come up with additional strategies enhancing population of users downloading our apps.\n",
    "\n",
    "Due to uncertainty of our simulations good idea might be to go away from idea of releasing on market multiple applications in favor of improving quality of our products and ensuring constant development by introducing new features. Possible boost to our user base may be achieved by introducing referral features and encouraging users to invite their friends to downloading our apps. This would insure additional income stream of our users, which in a long run will be cheaper than simple marketing.\n",
    "\n",
    "Another option worth considering may be targeting markets (countries) and focusing on industries with higher CPM rates, for instance advertisements in healthcare apps are more expensive than in e-commerce apps.\n",
    "\n",
    "Summarizing, business model we have chosen for our simulation depends on multiple factors and proves to be unpredictive. On the other hand if such venture may be great source of passive income in the longrun."
   ]
  }
 ],
 "metadata": {
  "kernelspec": {
   "display_name": "Python 3",
   "language": "python",
   "name": "python3"
  },
  "language_info": {
   "codemirror_mode": {
    "name": "ipython",
    "version": 3
   },
   "file_extension": ".py",
   "mimetype": "text/x-python",
   "name": "python",
   "nbconvert_exporter": "python",
   "pygments_lexer": "ipython3",
   "version": "3.7.3"
  }
 },
 "nbformat": 4,
 "nbformat_minor": 2
}
