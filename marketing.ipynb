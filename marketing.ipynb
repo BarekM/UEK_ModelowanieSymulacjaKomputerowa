{
 "cells": [
  {
   "cell_type": "markdown",
   "metadata": {},
   "source": [
    "## Step 5: Marketing\n",
    "\n",
    "Next we need to come up with appropriate marketing strategy taking in the account *how much do we invest in marketing* and what is the *return rate* of different ways to market our product.\n",
    "\n",
    "Our marketing strategy will rely heavily on intial investment. We can allocate investment funds in such marketing mediums, from most expensive to least expensive:\n",
    "\n",
    "1. TV and radio advertisements\n",
    "2. Real life advertisements (billboards, flyers)\n",
    "3. Internet advertisement\n",
    "\n",
    "The next thing is to continue marketing strategy when application is already published to the appstore.\n",
    "\n",
    "The statistics say (**link source**) that top 5 apps account for 72% of downloads for a particular search term and the top app alone takes the 35%.\n",
    "\n",
    "**App Store Optimization**\n",
    "\n",
    "In order to succeed in post production marketing we have to take into account App Store Optimization strategy which focuses on how to get an app as close to the top of the search screen as possible. It is achived by incorporating key words typed into search boxes, which are connected to the domain of our app. It can be achieved by using a reverse dictionary which gives us all the words which are used in the same context in conjuction with the word you are searching for.\n",
    "\n",
    "After determining the keywords we will use analytics software like [sensor tower](https://sensortower.com/blog/how-to-research-your-ios-app-store-optimization-aso-keywords-with-the-keyword-research-tool) to determine the weights, analitycs and insights about each of these words. Those tools provide information on how much traffic each of this keywords get (how often people look for them, the higher the better) and how much competition exist in the appstore for a given keyword - the lower the better (less apps are targeting this keywords).\n",
    "\n",
    "For sensor tower ideal spot is when $Traffic > 3$ and $Difficulty < 3$ and those tend to be the good keywords to target.\n",
    "\n",
    "And the last step is to incorporate the keywords in the application description."
   ]
  },
  {
   "cell_type": "code",
   "execution_count": null,
   "metadata": {},
   "outputs": [],
   "source": []
  }
 ],
 "metadata": {
  "kernelspec": {
   "display_name": "Python 3",
   "language": "python",
   "name": "python3"
  },
  "language_info": {
   "codemirror_mode": {
    "name": "ipython",
    "version": 3
   },
   "file_extension": ".py",
   "mimetype": "text/x-python",
   "name": "python",
   "nbconvert_exporter": "python",
   "pygments_lexer": "ipython3",
   "version": "3.6.7"
  }
 },
 "nbformat": 4,
 "nbformat_minor": 2
}
