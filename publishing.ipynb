{
 "cells": [
  {
   "cell_type": "markdown",
   "metadata": {},
   "source": [
    "## Step 6: Publishing\n",
    "\n",
    "When time comes to publishing we have to remember that both appstores, Apple and Google look at metrics at first **24 hours**, **7 days** and **30 days** after app release. These metrics consist of different parameters, such as *amount of downloads*, *amount of views*, *how many people left a review*, *how good the reviews are* and that first **24 ours** play biggest role in promoting the app to the top.\n",
    "\n",
    "In order to maximize metrics during first 24 hours we use the strategy of creating *a landing page*.\n",
    "\n",
    "Ideally what we want is to have a large list of people, ideally a list of emails of people who signed up before the launch and expressed interest in our app, that they want to download it once it's available. And we can achieve this by creating *a landing page* for our app.\n",
    "\n",
    "It can be a one-pager which briefly describes what the app is about but most importantly it has an email collection box and this will allow people who are interested in downloading our app to put their email down and that means that on launch day we will be able to directly hit this 10 000 - 20 000 of potential users, who will download it on a launch day and will play part in rising the metrix in first 24 hours. "
   ]
  },
  {
   "cell_type": "code",
   "execution_count": null,
   "metadata": {},
   "outputs": [],
   "source": []
  }
 ],
 "metadata": {
  "kernelspec": {
   "display_name": "Python 3",
   "language": "python",
   "name": "python3"
  },
  "language_info": {
   "codemirror_mode": {
    "name": "ipython",
    "version": 3
   },
   "file_extension": ".py",
   "mimetype": "text/x-python",
   "name": "python",
   "nbconvert_exporter": "python",
   "pygments_lexer": "ipython3",
   "version": "3.6.7"
  }
 },
 "nbformat": 4,
 "nbformat_minor": 2
}
