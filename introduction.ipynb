{
 "cells": [
  {
   "cell_type": "markdown",
   "metadata": {},
   "source": [
    "# Modelowanie i Symulacja Komputerowa"
   ]
  },
  {
   "cell_type": "markdown",
   "metadata": {},
   "source": [
    "## Opis przedsięwzięcia\n",
    "\n",
    "**Company name:** MSM Soft LLC.\n",
    "\n",
    "**Who we are:**\n",
    "\n",
    "We are a software development company, which specializes in mobile application development. We do not create mobile apps for other companies, who need a team of developers, but we come up with the ideas, make them happen and deliver them directly to end users via publishing our applications on Google Play Market and Apple Appstore. Our main idea is to cover as much business and development processes as possible by ourselves to maximize profits by minimizing costs which could be spent on outsourcing some of them."
   ]
  },
  {
   "cell_type": "markdown",
   "metadata": {},
   "source": [
    "**How do we operate:**\n",
    "\n",
    "In order to create and deliver a product we have to complete following steps, taking into considerations all the risks which can emerge during this process.\n",
    "\n",
    "The main point of this analisys is to standardize following steps and model each of them to see how every decision and risk taken translates into revenues for our company.\n",
    "\n",
    "1. **Step 1: Coming up with the Idea** - for our each app we have to come up with an idea. In order to do this we have to perform market research, follow trends and emerging market vacuums to maximize the chances that our idea is something that can be sold.\n",
    "2. **Step 2: Designing application** - for each application we are planning to create we have to go through analizing the design phase. Are we capable enough to do it ourselves or does it require outsourcing?\n",
    "3. **Step 3: Development** - this step covers actual programming. Depending on the app we have to analize what would be more profitable, program it ourselves, utilizing freelancers or outsorcing the whole development process to other company.\n",
    "4. **Step 4: Publish** - this part focuses on our publishing strategy. What are the rules, regulations and comissions applied to the process of publishing. How to ensure that our app will be a success?\n",
    "5. **Step 5: Marketing** - what factors should be taken into consideration about how to promote our application. What is the target market? Which types of marketing is the best value for money? How does investing into marketing translates into revenue?"
   ]
  },
  {
   "cell_type": "markdown",
   "metadata": {},
   "source": [
    "## Step 1: Idea"
   ]
  },
  {
   "cell_type": "markdown",
   "metadata": {},
   "source": [
    "Coming up with an idea which could be translated into successfull product may seem like a purely creative process which can't be modeled or standardized. To some extent it is true, but process of validating this idea can be modelled and applied to each idea our creative department comes up with. \n",
    "\n",
    "So how do we validate the idea and decide if it's worth spending our time, money and energy on it?\n",
    "\n",
    "### 1.1 Word of mouth\n",
    "\n",
    "The first step in validating the idea is to speak about it to as much people as possible, both internally in the company and externally. By doing this we receive first hand impression and validation if it is something good, something desirible by other people. We might receive some unique insight or come up on someone who will be one of our first customers.\n",
    "\n",
    "The risks in this step are minor but they are present. What if the idea is too good and somebody might try to steal it from us? Should we make everybody sign non-disclosure agreement?\n",
    "\n",
    "We believe that profits of reviewing the idea with as much people as possible on the initial state outweight the risks. Coming up with the idea is the tiny part of creating and publishing a successfull product and if our process of creating new app will be thoroughly modelled and performed it is highly unlikely that somebody would outperform our approach and implement our idea faster than we are. But in any cases this risks has to be taken into the account."
   ]
  },
  {
   "cell_type": "markdown",
   "metadata": {},
   "source": [
    "### 1.2 Market Research\n",
    "\n",
    "Next thing we want to do is to perform a market research. We go to google, go to the appstore and search variations of our idea and see if anybody already created it. From now on our process can follow two different routes:\n",
    "\n",
    "1. Our idea is unique and the impact of competition is low.\n",
    "2. Our idea is *not* unique and we have to take into account solutions of our competitors.\n",
    "\n",
    "If our idea is not unique we have to establish what would differentiate us from the competion. It can be better marketing strategy if competitors are not well known, unique domain knowledge, or we can focus on providing user with far better design, or we can monitor which features do users request but they are not implemented by competitors. Facebook wasn't the first social network and google was not the first search engine.\n",
    "\n",
    "We need to account *who* our competitors are, on *what stage* they are at and what is their development process to see where we can outperform them.\n",
    "\n",
    "**Market Vacuum**\n",
    "\n",
    "Part of the market research is monitoring for a *market vacuum*. Market vacuum exists when there is a customer demand which is not met by any existing company. Such vacuum can emerge for various reasons, two most common of them would be:\n",
    "\n",
    "1. Something dissapeared from the market.\n",
    "2. Something is available only on IOS but not available on android and vice versa.\n",
    "\n",
    "In this case, monitoring the market can lead to to discovering opportunities how to fullfill this vacuum relying on ideas for which there already exists a demand."
   ]
  },
  {
   "cell_type": "markdown",
   "metadata": {},
   "source": [
    "## Step 2: Design"
   ]
  },
  {
   "cell_type": "markdown",
   "metadata": {},
   "source": []
  },
  {
   "cell_type": "markdown",
   "metadata": {},
   "source": []
  },
  {
   "cell_type": "markdown",
   "metadata": {},
   "source": []
  },
  {
   "cell_type": "markdown",
   "metadata": {},
   "source": []
  },
  {
   "cell_type": "markdown",
   "metadata": {},
   "source": []
  },
  {
   "cell_type": "markdown",
   "metadata": {},
   "source": []
  },
  {
   "cell_type": "markdown",
   "metadata": {},
   "source": []
  },
  {
   "cell_type": "markdown",
   "metadata": {},
   "source": []
  }
 ],
 "metadata": {
  "kernelspec": {
   "display_name": "Python 3",
   "language": "python",
   "name": "python3"
  },
  "language_info": {
   "codemirror_mode": {
    "name": "ipython",
    "version": 3
   },
   "file_extension": ".py",
   "mimetype": "text/x-python",
   "name": "python",
   "nbconvert_exporter": "python",
   "pygments_lexer": "ipython3",
   "version": "3.6.8"
  }
 },
 "nbformat": 4,
 "nbformat_minor": 2
}
