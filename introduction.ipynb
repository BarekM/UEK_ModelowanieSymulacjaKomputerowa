{
 "cells": [
  {
   "cell_type": "markdown",
   "metadata": {},
   "source": [
    "# Modelowanie i Symulacja Komputerowa"
   ]
  },
  {
   "cell_type": "markdown",
   "metadata": {},
   "source": [
    "## Spis treści\n",
    "\n",
    "*stub TOC goes here*\n",
    "\n",
    "1. Opis przedsięwzięcia\n",
    "2. Model matematyczny ryzyka realizacji przedsoęwzięcia\n",
    "3. Eksperymenty symulacyjne.\n",
    "    1. Wariant optymistyczny\n",
    "    2. Wariant pośredni\n",
    "    3. Wariant pesymistyczny\n",
    "6. Dostosowanie do gorszych warunków"
   ]
  },
  {
   "cell_type": "markdown",
   "metadata": {},
   "source": []
  },
  {
   "cell_type": "markdown",
   "metadata": {},
   "source": []
  },
  {
   "cell_type": "markdown",
   "metadata": {},
   "source": []
  }
 ],
 "metadata": {
  "kernelspec": {
   "display_name": "Python 3",
   "language": "python",
   "name": "python3"
  },
  "language_info": {
   "codemirror_mode": {
    "name": "ipython",
    "version": 3
   },
   "file_extension": ".py",
   "mimetype": "text/x-python",
   "name": "python",
   "nbconvert_exporter": "python",
   "pygments_lexer": "ipython3",
   "version": "3.6.8"
  }
 },
 "nbformat": 4,
 "nbformat_minor": 2
}
