{
 "cells": [
  {
   "cell_type": "markdown",
   "metadata": {},
   "source": [
    "# Modelowanie i Symulacja Komputerowa"
   ]
  },
  {
   "cell_type": "markdown",
   "metadata": {},
   "source": [
    "## Opis przedsięwzięcia\n",
    "\n",
    "**Company name:** MSM Soft LLC.\n",
    "\n",
    "**Who we are:**\n",
    "\n",
    "We are a software development company, which specializes in mobile application development. We do not create mobile apps for other companies, who need a team of developers, but we come up with the ideas, make them happen and deliver them directly to end users via publishing our applications on Google Play Market and Apple Appstore. Our main idea is to cover by ourselves as much business and development processes as possible, not to outsorce them to maximize profits by minimizing costs."
   ]
  },
  {
   "cell_type": "markdown",
   "metadata": {},
   "source": [
    "**How do we operate:**\n",
    "\n",
    "In order to create and deliver a product we have to complete following steps, taking into considerations all the risks which can emerge during this process.\n",
    "\n",
    "The main point of this analisys is to standardize following steps and model each of them to see how every decision and risk taken translates into revenues for our company.\n",
    "\n",
    "1. **Step 1: Coming up with the Idea** - for our each app we have to come up with an idea. In order to do this we have to perform market research, follow trends and emerging market vacuums to maximize the chances that our idea is something that can be sold.\n",
    "2. **Step 2: Designing application** - for each application we are planning to create we have to go through analizing the design phase. Are we capable enough to do it ourselves or does it require outsourcing?\n",
    "3. **Step 3: Monetisation strategy** - depends on the app and on the target market appropriate monetization strategy will make a difference between a success and a failure.\n",
    "3. **Step 4: Development** - this step covers actual programming. Depending on the app we have to analize what would be more profitable, programming it ourselves, utilizing freelancers or outsorcing the whole development process to other company.\n",
    "5. **Step 5: Marketing** - what factors should be taken into consideration about how to promote our application. What is the target market? Which types of marketing is the best value for money? How does investing into marketing translates into revenue?\n",
    "4. **Step 6: Publish** - this part focuses on our publishing strategy. What are the rules, regulations and comissions applied to the process of publishing. How to ensure that our app will be a success?"
   ]
  }
 ],
 "metadata": {
  "kernelspec": {
   "display_name": "Python 3",
   "language": "python",
   "name": "python3"
  },
  "language_info": {
   "codemirror_mode": {
    "name": "ipython",
    "version": 3
   },
   "file_extension": ".py",
   "mimetype": "text/x-python",
   "name": "python",
   "nbconvert_exporter": "python",
   "pygments_lexer": "ipython3",
   "version": "3.6.8"
  }
 },
 "nbformat": 4,
 "nbformat_minor": 2
}
