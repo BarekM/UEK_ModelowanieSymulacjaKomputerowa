{
 "cells": [
  {
   "cell_type": "markdown",
   "metadata": {},
   "source": [
    "## Step 3: Monetisation\n",
    "\n",
    "Depending on the market and the target customer part of the success is to use appropriate monetisation strategy for the application. Available monetisation strategies are as such:\n",
    "\n",
    "**Freemium**\n",
    "\n",
    "Freemium = free + premium. You download an app for free and get 60-80% of features of the app. In order to get to premium features you have to pay a fee or a subscription to unlock a paywall.\n",
    "\n",
    "This monetization strategy performs really well for an app that has frequent daily usage and a high perceived value to the user. These are services mostly like dropbox or spotify. If user integrated this app in his daily life only then this model starts making more money than direct purchase app and user is more willing to pay for something he thinks is usefull in day-to-day activities.\n",
    "\n",
    "**In-app purchases**\n",
    "\n",
    "The next model describes revenue from buying something within an app, this can be real items if our app mimics internet shop or web-store or virtual items - common for games. If an app falls into category of time-wasters or entertainment industry this model produces the best outcome.\n",
    "\n",
    "We need to take into consideration that if purchases are virtual - all payments has to go through Google\\Apple paywall, where both companies take 30% of all revenue from the sales.\n",
    "\n",
    "If we are providing the user with real-life products it is allowed to use alternative pay ways.\n",
    "\n",
    "**Advertisements**\n",
    "\n",
    "In this model we integrate the ads into our application and get paid by the add provider. This strategy works better on the android market then ios market and relies on a lot of downloads. This strategy is good as a blind choice when we are not sure about the market and app success because by using this strategy we do not rely on hopes that somebody will pay us with his money. We can profit and clients would not have to spend their money. And a lot of people these days often look for free alternatives for any paid solution and do not mind ads at all.\n",
    "\n",
    "Choosing the best strategy for each app we develop plays part in reducing the risk of failure and increases the revenue."
   ]
  },
  {
   "cell_type": "code",
   "execution_count": null,
   "metadata": {},
   "outputs": [],
   "source": []
  }
 ],
 "metadata": {
  "kernelspec": {
   "display_name": "Python 3",
   "language": "python",
   "name": "python3"
  },
  "language_info": {
   "codemirror_mode": {
    "name": "ipython",
    "version": 3
   },
   "file_extension": ".py",
   "mimetype": "text/x-python",
   "name": "python",
   "nbconvert_exporter": "python",
   "pygments_lexer": "ipython3",
   "version": "3.6.8"
  }
 },
 "nbformat": 4,
 "nbformat_minor": 2
}
