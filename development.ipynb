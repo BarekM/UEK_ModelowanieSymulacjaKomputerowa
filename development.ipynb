{
 "cells": [
  {
   "cell_type": "markdown",
   "metadata": {},
   "source": [
    "## Step 4: App Development\n",
    "\n",
    "We can choose which developing strategy to use based on investment, initial assessment of an idea behind the app and difficulties in implementation.\n",
    "\n",
    "There are several strategies on how to approach app development, from the most expensive to the least expensive they are as such:\n",
    "\n",
    "**Outsource development**\n",
    "\n",
    "We can go to a company which specializes on app development, make project specification and we will be provided with a designer, developer and a possibility to oversee the development process during each of it's phase. The cost of such a solution is between 80 000 zl - 150 000 zl per app, so in order to invest such quota we have to make sure that this app will really sell.\n",
    "\n",
    "*Risk: very low*\n",
    "\n",
    "*Cost: very high*\n",
    "\n",
    "**Relying on freelancers**\n",
    "\n",
    "In order to reduce costs we can outsource development on a freelance team based in somewhere cheaper regions like Asia or Eastern Europe. The main risk here is to find a good team which will deliver the product as specified without any backdoors, bugs and problems. While hiring a development team we have to make sure to interview them more than once and speak to their past clients to assess their competence. Another minus is not being able to oversee the development process and a problem would be maintain the application in a later stages of it's lifecycle through updates. \n",
    "The cost of hiring a freelance team to write an app varies from 4000 zl to 30 000 zl.\n",
    "\n",
    "*Risk: high*\n",
    "\n",
    "*Cost: medium*\n",
    "\n",
    "**Program it ourselves**\n",
    "\n",
    "The cheapest and most customizable solution is to build the app ourselves. This solves the problems with high costs and maintability of a solution during it's future lifecycles, but sometimes, especially, our own expertise might not be high enough to create a solution and we might need to reach for external help.\n",
    "\n",
    "*Risk: low*\n",
    "\n",
    "*Costs: low*"
   ]
  },
  {
   "cell_type": "code",
   "execution_count": null,
   "metadata": {},
   "outputs": [],
   "source": []
  }
 ],
 "metadata": {
  "kernelspec": {
   "display_name": "Python 3",
   "language": "python",
   "name": "python3"
  },
  "language_info": {
   "codemirror_mode": {
    "name": "ipython",
    "version": 3
   },
   "file_extension": ".py",
   "mimetype": "text/x-python",
   "name": "python",
   "nbconvert_exporter": "python",
   "pygments_lexer": "ipython3",
   "version": "3.6.8"
  }
 },
 "nbformat": 4,
 "nbformat_minor": 2
}
